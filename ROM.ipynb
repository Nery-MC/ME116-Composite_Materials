{
 "cells": [
  {
   "cell_type": "code",
   "execution_count": 44,
   "metadata": {},
   "outputs": [],
   "source": [
    "import math"
   ]
  },
  {
   "cell_type": "code",
   "execution_count": 45,
   "metadata": {},
   "outputs": [
    {
     "data": {
      "text/plain": [
       "'\\n\\nEf = input(\\'Fiber Modulus (Ef): \\')\\npf = input(\\'Fiber Density (pf): \\')\\nvf = input(\\'Fiber Poisson Ratio (vf): \\')\\nWf = input(\\'Fiber Weight: \\')\\n\\nEm = input(\\'Matrix Modulus (Em): \\')\\npm = input(\\'Matrix Density (pm): \\')\\nvm = input(\\'Matrix Poisson Ratio (vm): \\')\\nWm = input(\\'Matrix Weight: \\')\\n\\nn_theta = input(\\'Efficency Factor: \\')\"\\n'"
      ]
     },
     "execution_count": 45,
     "metadata": {},
     "output_type": "execute_result"
    }
   ],
   "source": [
    "\"\"\"\n",
    "\n",
    "Ef = input('Fiber Modulus (Ef): ')\n",
    "pf = input('Fiber Density (pf): ')\n",
    "vf = input('Fiber Poisson Ratio (vf): ')\n",
    "Wf = input('Fiber Weight: ')\n",
    "\n",
    "Em = input('Matrix Modulus (Em): ')\n",
    "pm = input('Matrix Density (pm): ')\n",
    "vm = input('Matrix Poisson Ratio (vm): ')\n",
    "Wm = input('Matrix Weight: ')\n",
    "\n",
    "n_theta = input('Efficency Factor: ')\"\n",
    "\"\"\""
   ]
  },
  {
   "cell_type": "code",
   "execution_count": 46,
   "metadata": {},
   "outputs": [],
   "source": [
    "Ef = 70.5\n",
    "pf = 1.445\n",
    "vf = 0.36\n",
    "Wf = 186\n",
    "\n",
    "Em = 3.35\n",
    "pm = 1.1\n",
    "vm = 0.30\n",
    "Wm = 300\n",
    "\n",
    "n_theta = 0.25"
   ]
  },
  {
   "cell_type": "code",
   "execution_count": 47,
   "metadata": {},
   "outputs": [],
   "source": [
    "def Volume_Fractions(Wf, Wm, pf, pm):\n",
    "    Vf = (Wf * pf) / ((Wf * pf) + (Wm * pm))\n",
    "    Vm = 1 - Vf\n",
    "    print(f'Fiber Volume Fraction (Vf) = {Vf}')\n",
    "    print(f'Matrix Volume Fraction (Vm) = {Vm}')\n",
    "    return Vf, Vm\n",
    "\n",
    "def Shear(Ef, Em, vf, vm): \n",
    "    Gf = Ef / (2 * (1 + vf))\n",
    "    Gm = Em / (2 * (1 + vm))\n",
    "\n",
    "    print(f'Fiber Shear Modulus (Gf) = {Gf}')\n",
    "    print(f'Matrix Shear Modulus (Gm) = {Gm}')\n",
    "\n",
    "    return Gf, Gm\n",
    "\n",
    "def Composite_Properties(Vf, Vm, Ef, Em, vf, vm, n_theta): \n",
    "    Ef = Ef * n_theta\n",
    "\n",
    "    Ec1 = (Vf * Ef) + (Vm * Em)\n",
    "\n",
    "    Ec2 = (Ef * Em) / ((Vf * Em) + (Vm * Ef))\n",
    "    v12 = (Vf * vf) + (Vm * vm)\n",
    "\n",
    "    Gf, Gm = Shear(Ef, Em, vf, vm)\n",
    "    G12 = (Gf * Gm) / ((Gf * Vm) + (Gm * Vf))\n",
    "\n",
    "    return Ec1, Ec2, v12, G12"
   ]
  },
  {
   "cell_type": "code",
   "execution_count": 48,
   "metadata": {},
   "outputs": [
    {
     "name": "stdout",
     "output_type": "stream",
     "text": [
      "Fiber Volume Fraction (Vf) = 0.4488701838769478\n",
      "Matrix Volume Fraction (Vm) = 0.5511298161230522\n",
      "Fiber Shear Modulus (Gf) = 6.4797794117647065\n",
      "Matrix Shear Modulus (Gm) = 1.2884615384615385\n",
      "---------------------------------------------------------\n",
      "Longitudinal Elastic Modulus (Ec1) = 9.75762187484343\n",
      "Transverse Elastic Modulus (Ec2) = 5.263596300421216\n",
      "Composite Poissons Ratio (v12) = 0.3269322110326169\n",
      "Shear Modulus (G12) = 2.012011741921687\n"
     ]
    }
   ],
   "source": [
    "Vf, Vm = Volume_Fractions(Wf, Wm, pf, pm)\n",
    "\n",
    "Ec1, Ec2, v12, G12 = Composite_Properties(Vf, Vm, Ef, Em, vf, vm, n_theta)\n",
    "print('---------------------------------------------------------')\n",
    "print(f'Longitudinal Elastic Modulus (Ec1) = {Ec1}')\n",
    "print(f'Transverse Elastic Modulus (Ec2) = {Ec2}')\n",
    "print(f'Composite Poissons Ratio (v12) = {v12}')\n",
    "print(f'Shear Modulus (G12) = {G12}')"
   ]
  }
 ],
 "metadata": {
  "kernelspec": {
   "display_name": "Python 3",
   "language": "python",
   "name": "python3"
  },
  "language_info": {
   "codemirror_mode": {
    "name": "ipython",
    "version": 3
   },
   "file_extension": ".py",
   "mimetype": "text/x-python",
   "name": "python",
   "nbconvert_exporter": "python",
   "pygments_lexer": "ipython3",
   "version": "3.12.6"
  }
 },
 "nbformat": 4,
 "nbformat_minor": 2
}
